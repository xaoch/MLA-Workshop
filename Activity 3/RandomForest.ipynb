{
 "cells": [
  {
   "cell_type": "code",
   "execution_count": 1,
   "metadata": {
    "collapsed": false,
    "deletable": true,
    "editable": true
   },
   "outputs": [
    {
     "data": {
      "text/html": [
       "<div>\n",
       "<table border=\"1\" class=\"dataframe\">\n",
       "  <thead>\n",
       "    <tr style=\"text-align: right;\">\n",
       "      <th>preds</th>\n",
       "      <th>0</th>\n",
       "      <th>1</th>\n",
       "    </tr>\n",
       "    <tr>\n",
       "      <th>actual</th>\n",
       "      <th></th>\n",
       "      <th></th>\n",
       "    </tr>\n",
       "  </thead>\n",
       "  <tbody>\n",
       "    <tr>\n",
       "      <th>0</th>\n",
       "      <td>411</td>\n",
       "      <td>0</td>\n",
       "    </tr>\n",
       "    <tr>\n",
       "      <th>1</th>\n",
       "      <td>9</td>\n",
       "      <td>147</td>\n",
       "    </tr>\n",
       "  </tbody>\n",
       "</table>\n",
       "</div>"
      ],
      "text/plain": [
       "preds     0    1\n",
       "actual          \n",
       "0       411    0\n",
       "1         9  147"
      ]
     },
     "execution_count": 1,
     "metadata": {},
     "output_type": "execute_result"
    }
   ],
   "source": [
    "from sklearn.ensemble import RandomForestClassifier\n",
    "import pandas as pd\n",
    "import numpy as np\n",
    "\n",
    "df=pd.read_csv(\"FinalData.csv\",sep=\";\")\n",
    "variables=['AverageDistancetotablecenter', 'SigmaDistance', 'CantidaddeMovimiento',  'TimesSpeaking', 'TotalSpeechDuration', 'TimesSpeakingAboutNumbers', 'PercentageNumbers', 'UsingMathTerms', \n",
    "            'PercentagesMathTerms', 'CommandsPronounced', 'TimesUseofCalculator', 'PercentageUseofCalculator', 'totalStrokes', \n",
    "           'linesCount', 'rectanglesCount', 'circlesCount', 'ellipsesCount', 'arrowsCount', 'averagePathLength', \n",
    "           'averageNumPoints', 'averageLength', 'averageArea', 'averageBoundingBoxWidth', 'averageBoundingBoxHeight', \n",
    "           'averageBoundingBoxDiagonalLength', 'averageBoundingBoxPerimeter', 'averageTimeLength', 'averagePreasure']\n",
    "selectedData=df[variables]\n",
    "\n",
    "clf = RandomForestClassifier(n_jobs=2)\n",
    "clf.fit(selectedData, df['solved'])\n",
    "\n",
    "preds = clf.predict(selectedData)\n",
    "pd.crosstab(df['solved'], preds, rownames=['actual'], colnames=['preds'])"
   ]
  },
  {
   "cell_type": "code",
   "execution_count": null,
   "metadata": {
    "collapsed": true,
    "deletable": true,
    "editable": true
   },
   "outputs": [],
   "source": []
  }
 ],
 "metadata": {
  "kernelspec": {
   "display_name": "Python 2",
   "language": "python",
   "name": "python2"
  },
  "language_info": {
   "codemirror_mode": {
    "name": "ipython",
    "version": 2
   },
   "file_extension": ".py",
   "mimetype": "text/x-python",
   "name": "python",
   "nbconvert_exporter": "python",
   "pygments_lexer": "ipython2",
   "version": "2.7.12"
  }
 },
 "nbformat": 4,
 "nbformat_minor": 0
}
