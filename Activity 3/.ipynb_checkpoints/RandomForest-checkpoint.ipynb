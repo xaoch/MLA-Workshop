{
 "cells": [
  {
   "cell_type": "code",
   "execution_count": 1,
   "metadata": {
    "collapsed": false,
    "deletable": true,
    "editable": true
   },
   "outputs": [
    {
     "data": {
      "text/html": [
       "<div>\n",
       "<table border=\"1\" class=\"dataframe\">\n",
       "  <thead>\n",
       "    <tr style=\"text-align: right;\">\n",
       "      <th>preds</th>\n",
       "      <th>0</th>\n",
       "      <th>1</th>\n",
       "    </tr>\n",
       "    <tr>\n",
       "      <th>actual</th>\n",
       "      <th></th>\n",
       "      <th></th>\n",
       "    </tr>\n",
       "  </thead>\n",
       "  <tbody>\n",
       "    <tr>\n",
       "      <th>0</th>\n",
       "      <td>410</td>\n",
       "      <td>1</td>\n",
       "    </tr>\n",
       "    <tr>\n",
       "      <th>1</th>\n",
       "      <td>11</td>\n",
       "      <td>145</td>\n",
       "    </tr>\n",
       "  </tbody>\n",
       "</table>\n",
       "</div>"
      ],
      "text/plain": [
       "preds     0    1\n",
       "actual          \n",
       "0       410    1\n",
       "1        11  145"
      ]
     },
     "execution_count": 1,
     "metadata": {},
     "output_type": "execute_result"
    }
   ],
   "source": [
    "from sklearn.ensemble import RandomForestClassifier\n",
    "import pandas as pd\n",
    "import numpy as np\n",
    "\n",
    "df=pd.read_csv(\"FinalData.csv\",sep=\";\")\n",
    "variables=['AverageDistancetotablecenter', 'SigmaDistance', 'CantidaddeMovimiento',  'TimesSpeaking', 'TotalSpeechDuration', 'TimesSpeakingAboutNumbers', 'PercentageNumbers', 'UsingMathTerms', \n",
    "            'PercentagesMathTerms', 'CommandsPronounced', 'TimesUseofCalculator', 'PercentageUseofCalculator', 'totalStrokes', \n",
    "           'linesCount', 'rectanglesCount', 'circlesCount', 'ellipsesCount', 'arrowsCount', 'averagePathLength', \n",
    "           'averageNumPoints', 'averageLength', 'averageArea', 'averageBoundingBoxWidth', 'averageBoundingBoxHeight', \n",
    "           'averageBoundingBoxDiagonalLength', 'averageBoundingBoxPerimeter', 'averageTimeLength', 'averagePreasure']\n",
    "selectedData=df[variables]\n",
    "\n",
    "clf = RandomForestClassifier(n_jobs=2)\n",
    "clf.fit(selectedData, df['solved'])\n",
    "\n",
    "preds = clf.predict(selectedData)\n",
    "pd.crosstab(df['solved'], preds, rownames=['actual'], colnames=['preds'])"
   ]
  },
  {
   "cell_type": "code",
   "execution_count": null,
   "metadata": {
    "collapsed": true,
    "deletable": true,
    "editable": true
   },
   "outputs": [],
   "source": []
  }
 ],
 "metadata": {
  "kernelspec": {
   "display_name": "Python 3",
   "language": "python",
   "name": "python3"
  },
  "language_info": {
   "codemirror_mode": {
    "name": "ipython",
    "version": 3
   },
   "file_extension": ".py",
   "mimetype": "text/x-python",
   "name": "python",
   "nbconvert_exporter": "python",
   "pygments_lexer": "ipython3",
   "version": "3.6.1"
  }
 },
 "nbformat": 4,
 "nbformat_minor": 0
}
