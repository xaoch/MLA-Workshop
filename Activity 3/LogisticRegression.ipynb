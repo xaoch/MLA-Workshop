{
 "cells": [
  {
   "cell_type": "code",
   "execution_count": 1,
   "metadata": {
    "collapsed": false,
    "deletable": true,
    "editable": true
   },
   "outputs": [],
   "source": [
    "import numpy as np\n",
    "import pandas as pd\n",
    "import matplotlib.pyplot as plt\n",
    "from sklearn.linear_model import LogisticRegression\n",
    "from sklearn.cross_validation import train_test_split\n",
    "from sklearn import metrics\n",
    "from sklearn.cross_validation import cross_val_score\n",
    "\n",
    "data=pd.read_csv(\"FinalData.csv\",sep=\";\")\n",
    "variables=['AverageDistancetotablecenter', 'SigmaDistance', 'CantidaddeMovimiento',  'TimesSpeaking', 'TotalSpeechDuration', 'TimesSpeakingAboutNumbers', 'PercentageNumbers', 'UsingMathTerms', \n",
    "            'PercentagesMathTerms', 'CommandsPronounced', 'TimesUseofCalculator', 'PercentageUseofCalculator', 'totalStrokes', \n",
    "           'linesCount', 'rectanglesCount', 'circlesCount', 'ellipsesCount', 'arrowsCount', 'averagePathLength', \n",
    "           'averageNumPoints', 'averageLength', 'averageArea', 'averageBoundingBoxWidth', 'averageBoundingBoxHeight', \n",
    "           'averageBoundingBoxDiagonalLength', 'averageBoundingBoxPerimeter', 'averageTimeLength', 'averagePreasure']\n",
    "selectedData=data[variables]"
   ]
  },
  {
   "cell_type": "code",
   "execution_count": 2,
   "metadata": {
    "collapsed": false,
    "deletable": true,
    "editable": true
   },
   "outputs": [
    {
     "name": "stdout",
     "output_type": "stream",
     "text": [
      "Our model accuracy:  0.728395061728\n",
      "By chance:  0.275132275132\n"
     ]
    },
    {
     "data": {
      "text/html": [
       "<div>\n",
       "<table border=\"1\" class=\"dataframe\">\n",
       "  <thead>\n",
       "    <tr style=\"text-align: right;\">\n",
       "      <th>preds</th>\n",
       "      <th>0</th>\n",
       "      <th>1</th>\n",
       "    </tr>\n",
       "    <tr>\n",
       "      <th>actual</th>\n",
       "      <th></th>\n",
       "      <th></th>\n",
       "    </tr>\n",
       "  </thead>\n",
       "  <tbody>\n",
       "    <tr>\n",
       "      <th>0</th>\n",
       "      <td>394</td>\n",
       "      <td>17</td>\n",
       "    </tr>\n",
       "    <tr>\n",
       "      <th>1</th>\n",
       "      <td>137</td>\n",
       "      <td>19</td>\n",
       "    </tr>\n",
       "  </tbody>\n",
       "</table>\n",
       "</div>"
      ],
      "text/plain": [
       "preds     0   1\n",
       "actual         \n",
       "0       394  17\n",
       "1       137  19"
      ]
     },
     "execution_count": 2,
     "metadata": {},
     "output_type": "execute_result"
    }
   ],
   "source": [
    "model = LogisticRegression()\n",
    "model = model.fit(selectedData, data['solved'])\n",
    "\n",
    "# check the accuracy on the training set\n",
    "print(\"Our model accuracy: \", model.score(selectedData, data['solved']))\n",
    "print(\"By chance: \",  data['solved'].mean())\n",
    "\n",
    "pd.crosstab(data['solved'], model.predict(selectedData), rownames=['actual'], colnames=['preds'])"
   ]
  },
  {
   "cell_type": "code",
   "execution_count": null,
   "metadata": {
    "collapsed": true,
    "deletable": true,
    "editable": true
   },
   "outputs": [],
   "source": []
  }
 ],
 "metadata": {
  "kernelspec": {
   "display_name": "Python 2",
   "language": "python",
   "name": "python2"
  },
  "language_info": {
   "codemirror_mode": {
    "name": "ipython",
    "version": 2
   },
   "file_extension": ".py",
   "mimetype": "text/x-python",
   "name": "python",
   "nbconvert_exporter": "python",
   "pygments_lexer": "ipython2",
   "version": "2.7.12"
  }
 },
 "nbformat": 4,
 "nbformat_minor": 0
}
