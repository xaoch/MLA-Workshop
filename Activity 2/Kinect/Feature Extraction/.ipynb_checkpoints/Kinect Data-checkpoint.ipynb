{
 "cells": [
  {
   "cell_type": "markdown",
   "metadata": {},
   "source": [
    "# Extracting Kinect features from data gathered from Kinect V1"
   ]
  },
  {
   "cell_type": "code",
   "execution_count": 1,
   "metadata": {
    "collapsed": false
   },
   "outputs": [],
   "source": [
    "import numpy as np\n",
    "from numpy import genfromtxt\n",
    "from math import sqrt\n",
    "import csv\n",
    "import matplotlib.pyplot as plt"
   ]
  },
  {
   "cell_type": "markdown",
   "metadata": {},
   "source": [
    "## Get data from csv file\n",
    "The next line code will save all the data in a numpy array with their header names"
   ]
  },
  {
   "cell_type": "code",
   "execution_count": 2,
   "metadata": {
    "collapsed": false
   },
   "outputs": [],
   "source": [
    "kinect_data = np.genfromtxt('F001.g1.s1.i1.csv', delimiter=',', names = True, dtype=None)"
   ]
  },
  {
   "cell_type": "markdown",
   "metadata": {},
   "source": [
    "Our data is structured as follows:\n",
    "* One row contains `Frame`, `Time_Stamp`, `FPS_Location_ms`, `SkelId`, `Joint_Type`, `Confidence`, `X`, `Y`, `Original_Position_X`, `Original_Position_Y`, `Original_Position_Z` columns.\n",
    "* Every 20 rows represents a frame.\n",
    "* The `Joint_Type` column has the one name of the joints (per row).\n",
    "* 20 Joints were saved for each skeleton\n",
    "* `X` and `Y` values are from kinect coordintates.\n"
   ]
  },
  {
   "cell_type": "code",
   "execution_count": 3,
   "metadata": {
    "collapsed": false
   },
   "outputs": [
    {
     "name": "stdout",
     "output_type": "stream",
     "text": [
      "('Frame', 'Time_Stamp', 'FPS_Location_ms', 'SkelId', 'Joint_Type', 'Confidence', 'X', 'Y', 'Original_Position_X', 'Original_Position_Y', 'Original_Position_Z')\n"
     ]
    }
   ],
   "source": [
    "print(kinect_data.dtype.names)"
   ]
  },
  {
   "cell_type": "markdown",
   "metadata": {},
   "source": [
    "For our analysis, we are going to select `Joint_Type`, `X` and `Y` columns."
   ]
  },
  {
   "cell_type": "markdown",
   "metadata": {},
   "source": [
    "## Changing the skeleton reference and selecting upper limbs joints\n",
    "In order to ease the analysis of skeletons, we are going to change the kinect reference into the screen reference.\n",
    "For our analysis we are going to include only upper limbs joints: \n",
    "\n",
    "| **Joints**    | **Joints**    |\n",
    "| ------------- |:-------------:|\n",
    "| Spine         | HipCenter     |\n",
    "| ShoulderLeft  | ShoulderRight |\n",
    "| ElbowLeft     | ElbowRight    |\n",
    "| WristLeft     | WristRight    |\n",
    "| ShoulderCenter     |\n",
    "\n",
    "One additional consideration of our analysis is that we use the wrist as the hand reference, due to the noise that Kinect produces, giving an innacurate joint recognition of the hand."
   ]
  },
  {
   "cell_type": "code",
   "execution_count": 4,
   "metadata": {
    "collapsed": true
   },
   "outputs": [],
   "source": [
    "joint_types = [b'Spine',b'HipCenter',b'ShoulderLeft',b'ShoulderCenter',b'ElbowLeft',b'WristLeft',b'ShoulderRight',b'ElbowRight',b'WristRight']"
   ]
  },
  {
   "cell_type": "code",
   "execution_count": 5,
   "metadata": {
    "collapsed": false
   },
   "outputs": [],
   "source": [
    "#change reference from skeleton data to screen reference\n",
    "def changeReference(sk):\n",
    "\tskeleton = {} \n",
    "\tinitialpos = []\n",
    "\torigin = []\n",
    "#find the center of skeleton (ShoulderCenter)\n",
    "\tind = np.where(sk['Joint_Type'] == b'ShoulderCenter')\n",
    "\tskeleton.update({b'ShoulderCenter':[0,0]})\n",
    "\torigin = [int(sk['X'][ind]),-int(sk['Y'][ind])]\n",
    "\tinitialpos.extend(origin)\n",
    "\tjoint_types = [b'Spine',b'HipCenter',b'ShoulderLeft',b'ElbowLeft',b'ElbowLeft',b'WristLeft',b'ShoulderRight',b'ElbowRight',b'WristRight']\n",
    "\tfor i in range(20):\n",
    "\t\tif skeleton_frame['Joint_Type'][i] in joint_types:\n",
    "\t\t\tinitialpos.extend([sk['X'][i],sk['Y'][i]])\n",
    "\t\t\tskeleton.update({sk['Joint_Type'][i]:[sk['X'][i]-origin[0],-sk['Y'][i]-origin[1]]})\n",
    "\treturn skeleton"
   ]
  },
  {
   "cell_type": "markdown",
   "metadata": {},
   "source": [
    "## Get a skeleton frame\n",
    "According to the structure of the file, we need to save a skeleton every 20 rows:"
   ]
  },
  {
   "cell_type": "code",
   "execution_count": 6,
   "metadata": {
    "collapsed": false
   },
   "outputs": [
    {
     "name": "stdout",
     "output_type": "stream",
     "text": [
      "3530\n"
     ]
    }
   ],
   "source": [
    "#save all skeleton frames\n",
    "skeletons = []\n",
    "\n",
    "for i in range(0,len(kinect_data),20):\n",
    "    skeleton_frame = kinect_data[['Joint_Type', 'Confidence', 'X', 'Y']][i:i+21]\n",
    "    \n",
    "    #change to screen reference\n",
    "    skeleton = changeReference(skeleton_frame)\n",
    "    \n",
    "    #add the skeleton to the list of all skeleton frames\n",
    "    skeletons.append(skeleton)\n",
    "print(len(skeletons))"
   ]
  },
  {
   "cell_type": "markdown",
   "metadata": {},
   "source": [
    "## Drawing a Skeleton\n",
    "To have an idea in how the points are being saved, we draw a skeleton.\n",
    "\n",
    "First, we create a list of points."
   ]
  },
  {
   "cell_type": "code",
   "execution_count": 41,
   "metadata": {
    "collapsed": false
   },
   "outputs": [],
   "source": [
    "#create points for plotting the skeleton\n",
    "skeletons_points = []\n",
    "for i in range(len(skeletons)):\n",
    "    skeleton_points= []\n",
    "    skeleton_points.append([skeletons[i][b'ShoulderCenter'],skeletons[i][b'Spine']])\n",
    "    skeleton_points.append([skeletons[i][b'ShoulderCenter'],skeletons[i][b'ShoulderLeft']])\n",
    "    skeleton_points.append([skeletons[i][b'ShoulderCenter'],skeletons[i][b'ShoulderRight']])\n",
    "    skeleton_points.append([skeletons[i][b'Spine'],skeletons[i][b'HipCenter']])\n",
    "    skeleton_points.append([skeletons[i][b'ShoulderLeft'],skeletons[i][b'ElbowLeft']])\n",
    "    #skeleton_points.append([skeletons[i][b'ElbowLeft'],skeletons[i][b'WristLeft']])\n",
    "    #skeleton_points.append([skeletons[i][b'ShoulderRight'],skeletons[i][b'ElbowRight']])\n",
    "    #skeleton_points.append([skeletons[i][b'ElbowRight'],skeletons[i][b'WristRight']])\n",
    "    skeletons_points.append(skeleton_points)"
   ]
  },
  {
   "cell_type": "markdown",
   "metadata": {},
   "source": [
    "Then, we draw the points by converting them into lines and adding to a plot."
   ]
  },
  {
   "cell_type": "code",
   "execution_count": 42,
   "metadata": {
    "collapsed": false
   },
   "outputs": [
    {
     "data": {
      "image/png": "[encoded data removed]",
      "text/plain": [
       "<matplotlib.figure.Figure at 0x108542160>"
      ]
     },
     "metadata": {},
     "output_type": "display_data"
    }
   ],
   "source": [
    "#draw a skeleton\n",
    "import matplotlib.pyplot as plt\n",
    "import matplotlib.lines as lines\n",
    "from matplotlib.lines import Line2D \n",
    "%matplotlib inline\n",
    "\n",
    "fig, ax = plt.subplots()\n",
    "\n",
    "fig.set_size_inches(6,6)          # Make graph square\n",
    "\n",
    "\n",
    "# Note that the Line2D takes a list of x values and a list of y values,\n",
    "# not 2 points as one might expect.  So we have to convert our points\n",
    "# an x-list and a y-list.\n",
    "sk_lines = []\n",
    "for points in skeletons_points[0]: #take only the first skeleton\n",
    "    sk_lines.append(zip(*points))\n",
    "\n",
    "for points in sk_lines:\n",
    "    (line_xs,line_ys) = points\n",
    "    ax.add_line(Line2D(line_xs,line_ys, linewidth=2, color='blue'))\n",
    "plt.plot()\n",
    "plt.show()\n"
   ]
  },
  {
   "cell_type": "markdown",
   "metadata": {},
   "source": [
    "## Feature extraction\n",
    "The features can be calculated either for each skeleton or for all skeletons, depending on what we need to extract."
   ]
  },
  {
   "cell_type": "markdown",
   "metadata": {},
   "source": [
    "### 1. Distances"
   ]
  },
  {
   "cell_type": "markdown",
   "metadata": {},
   "source": [
    "In this type of features, we are going to calculate distances between points. To do this, we use the euclidean distance from two points. "
   ]
  },
  {
   "cell_type": "code",
   "execution_count": 9,
   "metadata": {
    "collapsed": true
   },
   "outputs": [],
   "source": [
    "def euclidean(x,y):\n",
    "\tsumSq=0.0\n",
    "    \n",
    "\t#add up the squared differences\n",
    "\tfor i in range(len(x)):\n",
    "\t\tsumSq+=(x[i]-y[i])**2\n",
    "        \n",
    "\t#take the square root of the result\n",
    "\treturn (sqrt(sumSq))"
   ]
  },
  {
   "cell_type": "markdown",
   "metadata": {},
   "source": [
    "#### Distance between hands:"
   ]
  },
  {
   "cell_type": "code",
   "execution_count": 10,
   "metadata": {
    "collapsed": false
   },
   "outputs": [
    {
     "name": "stdout",
     "output_type": "stream",
     "text": [
      "47.51841748206689\n"
     ]
    }
   ],
   "source": [
    "#feature 1: distance between hands:\n",
    "distBetweenHands = euclidean(skeletons[0][b'WristRight'],skeletons[0][b'WristLeft'])\n",
    "print(distBetweenHands)"
   ]
  },
  {
   "cell_type": "markdown",
   "metadata": {},
   "source": [
    "#### Distance from spine to the left hand:"
   ]
  },
  {
   "cell_type": "code",
   "execution_count": 11,
   "metadata": {
    "collapsed": false
   },
   "outputs": [
    {
     "name": "stdout",
     "output_type": "stream",
     "text": [
      "66.70832032063167\n"
     ]
    }
   ],
   "source": [
    "#feature 2: distance from  spine to left hand\n",
    "distSpine2LH = euclidean(skeletons[0][b'Spine'],skeletons[0][b'WristLeft'])\n",
    "print(distSpine2LH)"
   ]
  },
  {
   "cell_type": "markdown",
   "metadata": {},
   "source": [
    "#### Distance from spine to the right hand:"
   ]
  },
  {
   "cell_type": "code",
   "execution_count": 12,
   "metadata": {
    "collapsed": false,
    "scrolled": true
   },
   "outputs": [
    {
     "name": "stdout",
     "output_type": "stream",
     "text": [
      "19.697715603592208\n"
     ]
    }
   ],
   "source": [
    "#feature 3: distance from  spine to right hand\n",
    "distSpine2RH = euclidean(skeletons[0][b'Spine'],skeletons[0][b'WristRight'])\n",
    "print(distSpine2RH)"
   ]
  },
  {
   "cell_type": "markdown",
   "metadata": {},
   "source": [
    "#### Distance from spine to the left elbow:"
   ]
  },
  {
   "cell_type": "code",
   "execution_count": 13,
   "metadata": {
    "collapsed": false
   },
   "outputs": [
    {
     "name": "stdout",
     "output_type": "stream",
     "text": [
      "66.64082832618455\n"
     ]
    }
   ],
   "source": [
    "#feature 4: distance from spine to left elbow\n",
    "distSpine2LE = euclidean(skeletons[0][b'Spine'],skeletons[0][b'ElbowLeft'])\n",
    "print(distSpine2LE)"
   ]
  },
  {
   "cell_type": "markdown",
   "metadata": {},
   "source": [
    "#### Distance from spine to the right elbow:"
   ]
  },
  {
   "cell_type": "code",
   "execution_count": 14,
   "metadata": {
    "collapsed": false,
    "scrolled": true
   },
   "outputs": [
    {
     "name": "stdout",
     "output_type": "stream",
     "text": [
      "43.174066289845804\n"
     ]
    }
   ],
   "source": [
    "#feature 4: distance from spine to right elbow\n",
    "distSpine2RE = euclidean(skeletons[0][b'Spine'],skeletons[0][b'ElbowRight'])\n",
    "print(distSpine2RE)"
   ]
  },
  {
   "cell_type": "markdown",
   "metadata": {},
   "source": [
    "### 2. Instant Velocity\n",
    "To get instant velocity, we need to consider the actual and the next skeleton."
   ]
  },
  {
   "cell_type": "code",
   "execution_count": 15,
   "metadata": {
    "collapsed": false
   },
   "outputs": [
    {
     "name": "stdout",
     "output_type": "stream",
     "text": [
      "[-71, -70] [-74, -66]\n",
      "[ 3 -4]\n"
     ]
    }
   ],
   "source": [
    "#get velocity from left hand\n",
    "print(skeletons[0][b'WristLeft'],skeletons[1][b'WristLeft'])\n",
    "v_xy = np.array(skeletons[0][b'WristLeft'])-np.array(skeletons[1][b'WristLeft'])\n",
    "print(v_xy)"
   ]
  },
  {
   "cell_type": "code",
   "execution_count": 16,
   "metadata": {
    "collapsed": false
   },
   "outputs": [
    {
     "name": "stdout",
     "output_type": "stream",
     "text": [
      "5.0\n"
     ]
    }
   ],
   "source": [
    "#get velocity frame \n",
    "from math import hypot\n",
    "v_frame = hypot(v_xy[0],v_xy[1])\n",
    "print(v_frame)"
   ]
  },
  {
   "cell_type": "markdown",
   "metadata": {},
   "source": [
    "### 3. Quantity of Motion"
   ]
  },
  {
   "cell_type": "markdown",
   "metadata": {},
   "source": [
    "One interesting feature that could show the behavior of a person is the quatity of motion. It has been defined as the\n",
    "cumulative average of velocity.\n",
    "For this feature we need:\n",
    "* Calculate velocity mean every 30 frames.\n",
    "* Accumuate velocity mean during all presentation."
   ]
  },
  {
   "cell_type": "markdown",
   "metadata": {},
   "source": [
    "#### Save all velocity frames from left hand in an array"
   ]
  },
  {
   "cell_type": "code",
   "execution_count": 17,
   "metadata": {
    "collapsed": false
   },
   "outputs": [],
   "source": [
    "#save all velocity frames from left hand\n",
    "v_frames = [0]\n",
    "for i in range(len(skeletons)-1):\n",
    "    v_xy = np.array(skeletons[i][b'WristLeft'])-np.array(skeletons[i+1][b'WristLeft'])\n",
    "    v_frame = hypot(v_xy[0],v_xy[1])\n",
    "    v_frames.append(v_frame)"
   ]
  },
  {
   "cell_type": "markdown",
   "metadata": {},
   "source": [
    "#### Calculate velocity mean every 30 frames"
   ]
  },
  {
   "cell_type": "code",
   "execution_count": 18,
   "metadata": {
    "collapsed": false
   },
   "outputs": [
    {
     "name": "stdout",
     "output_type": "stream",
     "text": [
      "118\n"
     ]
    }
   ],
   "source": [
    "fps = 30\n",
    "velocity_mean = []\n",
    "for i in range(0,len(v_frames),fps):\n",
    "    velocity_mean.append(np.array(v_frames[i+1:i+fps+1]).sum()/fps)\n",
    "print(len(velocity_mean))"
   ]
  },
  {
   "cell_type": "markdown",
   "metadata": {},
   "source": [
    "#### Accumulate velocity mean"
   ]
  },
  {
   "cell_type": "code",
   "execution_count": 19,
   "metadata": {
    "collapsed": false,
    "scrolled": true
   },
   "outputs": [
    {
     "name": "stdout",
     "output_type": "stream",
     "text": [
      "593.217467296\n"
     ]
    }
   ],
   "source": [
    "qom = np.array(velocity_mean).sum()\n",
    "print(qom)"
   ]
  },
  {
   "cell_type": "markdown",
   "metadata": {},
   "source": [
    "We can perform the same calculation for relevant joints."
   ]
  },
  {
   "cell_type": "markdown",
   "metadata": {},
   "source": [
    "## Putting all together"
   ]
  },
  {
   "cell_type": "markdown",
   "metadata": {},
   "source": [
    "From these features, we are going to generate two different files. \n",
    "* **A file with all skeleton positions:** With this data we are going to find common postures from this student.\n",
    "* **A file with overall features like `qom`, `overall_mean_velocity`, `overall_max_velocity`, `overall_min_velocity` for each joint:** From this data, we might want to find an overall assessment per student."
   ]
  },
  {
   "cell_type": "markdown",
   "metadata": {},
   "source": [
    "### All skeleton positions"
   ]
  },
  {
   "cell_type": "code",
   "execution_count": 32,
   "metadata": {
    "collapsed": false
   },
   "outputs": [
    {
     "name": "stdout",
     "output_type": "stream",
     "text": [
      "dict_keys([b'ShoulderCenter', b'ShoulderRight', b'Spine', b'WristRight', b'ElbowLeft', b'ShoulderLeft', b'ElbowRight', b'WristLeft', b'HipCenter'])\n"
     ]
    }
   ],
   "source": [
    "resultFile = open(\"F001.g1.s1.i1.skeletons.csv\",'w')\n",
    "wr = csv.writer(resultFile, dialect='excel')\n",
    "header = []\n",
    "print(skeletons[0].keys())\n",
    "for key in skeletons[0].keys():\n",
    "    header.append(key.decode(\"utf-8\")+\"_X\")\n",
    "    header.append(key.decode(\"utf-8\")+\"_Y\")\n",
    "wr.writerow(header)\n",
    "\n",
    "# for each skeleton, get all joint values and add to a list, then write a row\n",
    "for skeleton in skeletons:\n",
    "    row = []\n",
    "    for key,value in skeleton.items():\n",
    "        for point in value:\n",
    "            row.append(int(point))\n",
    "    wr.writerow(row)\n",
    "resultFile.close()"
   ]
  },
  {
   "cell_type": "markdown",
   "metadata": {},
   "source": [
    "### Overall features"
   ]
  },
  {
   "cell_type": "markdown",
   "metadata": {},
   "source": [
    "#### Average distance between hands"
   ]
  },
  {
   "cell_type": "code",
   "execution_count": 21,
   "metadata": {
    "collapsed": false
   },
   "outputs": [
    {
     "name": "stdout",
     "output_type": "stream",
     "text": [
      "78.0932892459\n"
     ]
    }
   ],
   "source": [
    "distBetweenHands = np.array([euclidean(skeletons[i][b'WristRight'],skeletons[i][b'WristLeft']) for i in range(len(skeletons))])\n",
    "avg_distBetweenHands = np.mean(distBetweenHands)\n",
    "print(avg_distBetweenHands)"
   ]
  },
  {
   "cell_type": "markdown",
   "metadata": {},
   "source": [
    "#### Minimum distance between hands"
   ]
  },
  {
   "cell_type": "code",
   "execution_count": 22,
   "metadata": {
    "collapsed": false
   },
   "outputs": [
    {
     "name": "stdout",
     "output_type": "stream",
     "text": [
      "0.0\n"
     ]
    }
   ],
   "source": [
    "min_distBetweenHands = np.min(distBetweenHands)\n",
    "print(min_distBetweenHands)"
   ]
  },
  {
   "cell_type": "markdown",
   "metadata": {},
   "source": [
    "#### Maximum distance between hands"
   ]
  },
  {
   "cell_type": "code",
   "execution_count": 23,
   "metadata": {
    "collapsed": false
   },
   "outputs": [
    {
     "name": "stdout",
     "output_type": "stream",
     "text": [
      "248.652367775\n"
     ]
    }
   ],
   "source": [
    "max_distBetweenHands = np.max(distBetweenHands)\n",
    "print(max_distBetweenHands)"
   ]
  },
  {
   "cell_type": "markdown",
   "metadata": {},
   "source": [
    "#### Average distance from spine to the left hand:"
   ]
  },
  {
   "cell_type": "code",
   "execution_count": 24,
   "metadata": {
    "collapsed": false
   },
   "outputs": [
    {
     "name": "stdout",
     "output_type": "stream",
     "text": [
      "61.9453420729\n"
     ]
    }
   ],
   "source": [
    "distSpine2LH = np.array([euclidean(skeletons[i][b'Spine'],skeletons[i][b'WristLeft']) for i in range(len(skeletons))])\n",
    "avg_distSpine2LH = np.mean(distSpine2LH)\n",
    "print(avg_distSpine2LH)"
   ]
  },
  {
   "cell_type": "markdown",
   "metadata": {},
   "source": [
    "#### Average distance from spine to the right hand:"
   ]
  },
  {
   "cell_type": "code",
   "execution_count": 25,
   "metadata": {
    "collapsed": false,
    "scrolled": true
   },
   "outputs": [
    {
     "name": "stdout",
     "output_type": "stream",
     "text": [
      "45.033238328\n"
     ]
    }
   ],
   "source": [
    "distSpine2RH = np.array([euclidean(skeletons[i][b'Spine'],skeletons[i][b'WristRight']) for i in range(len(skeletons))])\n",
    "avg_distSpine2RH = np.mean(distSpine2RH)\n",
    "print(avg_distSpine2RH)"
   ]
  },
  {
   "cell_type": "markdown",
   "metadata": {},
   "source": [
    "#### Average distance from spine to the left elbow:"
   ]
  },
  {
   "cell_type": "code",
   "execution_count": 26,
   "metadata": {
    "collapsed": false
   },
   "outputs": [
    {
     "name": "stdout",
     "output_type": "stream",
     "text": [
      "57.1922896718\n"
     ]
    }
   ],
   "source": [
    "distSpine2LE = np.array([euclidean(skeletons[i][b'Spine'],skeletons[i][b'ElbowLeft']) for i in range(len(skeletons))])\n",
    "avg_distSpine2LE = np.mean(distSpine2LE)\n",
    "print(avg_distSpine2LE)"
   ]
  },
  {
   "cell_type": "markdown",
   "metadata": {},
   "source": [
    "#### Average distance from spine to the right elbow:"
   ]
  },
  {
   "cell_type": "code",
   "execution_count": 27,
   "metadata": {
    "collapsed": false,
    "scrolled": true
   },
   "outputs": [
    {
     "name": "stdout",
     "output_type": "stream",
     "text": [
      "53.2060035082\n"
     ]
    }
   ],
   "source": [
    "distSpine2RE = np.array([euclidean(skeletons[i][b'Spine'],skeletons[i][b'ElbowRight']) for i in range(len(skeletons))])\n",
    "avg_distSpine2RE = np.mean(distSpine2RE)\n",
    "print(avg_distSpine2RE)"
   ]
  },
  {
   "cell_type": "markdown",
   "metadata": {},
   "source": [
    "#### QoM of all joints"
   ]
  },
  {
   "cell_type": "code",
   "execution_count": 28,
   "metadata": {
    "collapsed": false
   },
   "outputs": [],
   "source": [
    "#save all velocity frames from all joints\n",
    "all_velocity_frames = []\n",
    "for joint in joint_types:\n",
    "    v_frames = [0]\n",
    "    for i in range(len(skeletons)-1):\n",
    "        v_xy = np.array(skeletons[i][joint])-np.array(skeletons[i+1][joint])\n",
    "        v_frames.append(hypot(v_xy[0],v_xy[1]))\n",
    "    all_velocity_frames.append(v_frames)\n",
    "    "
   ]
  },
  {
   "cell_type": "markdown",
   "metadata": {},
   "source": [
    "#### Calculate velocity mean for all joints every 30 frames"
   ]
  },
  {
   "cell_type": "code",
   "execution_count": 29,
   "metadata": {
    "collapsed": false
   },
   "outputs": [],
   "source": [
    "fps = 10\n",
    "all_velocity_mean = []\n",
    "for vf in all_velocity_frames:\n",
    "    velocity_mean = []\n",
    "    for i in range(0,len(vf),fps):\n",
    "        velocity_mean.append((np.array(vf[i+1:i+fps+1]).sum())/fps)\n",
    "    all_velocity_mean.append(velocity_mean)\n"
   ]
  },
  {
   "cell_type": "markdown",
   "metadata": {},
   "source": [
    "#### Accumulate velocity mean"
   ]
  },
  {
   "cell_type": "code",
   "execution_count": 30,
   "metadata": {
    "collapsed": false,
    "scrolled": true
   },
   "outputs": [
    {
     "name": "stdout",
     "output_type": "stream",
     "text": [
      "b'Spine' 367.525720454\n",
      "b'HipCenter' 406.875900919\n",
      "b'ShoulderLeft' 488.827613004\n",
      "b'ShoulderCenter' 0.0\n",
      "b'ElbowLeft' 831.681086646\n",
      "b'WristLeft' 1779.65240189\n",
      "b'ShoulderRight' 400.044798317\n",
      "b'ElbowRight' 676.30404517\n",
      "b'WristRight' 1656.89929664\n"
     ]
    }
   ],
   "source": [
    "QoM = []\n",
    "for i,velocity_mean in enumerate(all_velocity_mean):\n",
    "    QoM.append(np.array(velocity_mean).sum())\n",
    "    print(joint_types[i],np.array(velocity_mean).sum())"
   ]
  },
  {
   "cell_type": "markdown",
   "metadata": {
    "collapsed": true
   },
   "source": [
    "#### Save all features"
   ]
  },
  {
   "cell_type": "code",
   "execution_count": 31,
   "metadata": {
    "collapsed": false
   },
   "outputs": [],
   "source": [
    "overallFile = open(\"overall_features.csv\",'w')\n",
    "wr = csv.writer(overallFile, dialect='excel')\n",
    "header = [\"avg_distBetweenHands\",\"min_distBetweenHands\",\"max_distBetweenHands\",\"avg_distSpine2LH\",\"avg_distSpine2RH\",\"avg_distSpine2LE\",\"avg_distSpine2RE\"]\n",
    "for joint in joint_types:\n",
    "    header.append(\"QoM_\"+joint.decode(\"utf-8\"))\n",
    "wr.writerow(header)\n",
    "row = [avg_distBetweenHands,min_distBetweenHands,max_distBetweenHands,avg_distSpine2LH,avg_distSpine2RH,avg_distSpine2LE,avg_distSpine2RE]\n",
    "for i in range(len(joint_types)):\n",
    "    row.append(QoM[i])\n",
    "wr.writerow(row)\n",
    "overallFile.close()"
   ]
  },
  {
   "cell_type": "code",
   "execution_count": null,
   "metadata": {
    "collapsed": true
   },
   "outputs": [],
   "source": []
  }
 ],
 "metadata": {
  "kernelspec": {
   "display_name": "Python 3",
   "language": "python",
   "name": "python3"
  },
  "language_info": {
   "codemirror_mode": {
    "name": "ipython",
    "version": 3
   },
   "file_extension": ".py",
   "mimetype": "text/x-python",
   "name": "python",
   "nbconvert_exporter": "python",
   "pygments_lexer": "ipython3",
   "version": "3.5.1"
  }
 },
 "nbformat": 4,
 "nbformat_minor": 0
}
