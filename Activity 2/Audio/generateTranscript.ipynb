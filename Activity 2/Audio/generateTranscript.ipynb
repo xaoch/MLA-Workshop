{
 "cells": [
  {
   "cell_type": "code",
   "execution_count": 1,
   "metadata": {
    "collapsed": false,
    "deletable": true,
    "editable": true
   },
   "outputs": [
    {
     "name": "stdout",
     "output_type": "stream",
     "text": [
      "Audio not understood\n",
      "Audio recognized\n",
      "Recognized text: doesn't really work now\n",
      "Audio not understood\n",
      "Audio not understood\n",
      "Audio recognized\n",
      "Recognized text: so that bass\n",
      "Audio recognized\n",
      "Recognized text: one forty nine times\n",
      "Audio not understood\n",
      "Audio recognized\n",
      "Recognized text: yes\n",
      "Audio not understood\n",
      "Audio recognized\n",
      "Recognized text: well OK\n",
      "Audio recognized\n",
      "Recognized text: two two two oh one\n",
      "Audio not understood\n",
      "Audio recognized\n",
      "Recognized text: tell me the height is eight hundred\n",
      "Audio not understood\n",
      "Audio recognized\n",
      "Recognized text: times one third\n",
      "Audio not understood\n",
      "Audio not understood\n",
      "Audio not understood\n",
      "Audio recognized\n",
      "Recognized text: times\n",
      "Audio not understood\n",
      "Audio recognized\n",
      "Recognized text: if only have everything\n",
      "Audio not understood\n",
      "Audio recognized\n",
      "Recognized text: broadway\n",
      "Audio not understood\n",
      "Audio recognized\n",
      "Recognized text: well but never OK\n",
      "Audio not understood\n",
      "Audio recognized\n",
      "Recognized text: hey hey attention\n",
      "Audio recognized\n",
      "Recognized text: oh five nine two oh two six six point six six seven\n",
      "Audio not understood\n",
      "Audio recognized\n",
      "Recognized text: what\n",
      "Audio not understood\n"
     ]
    }
   ],
   "source": [
    "import speech_recognition as sr\n",
    "import time\n",
    "\n",
    "# obtain path to \"wav\" in the same folder as this script\n",
    "from os import path\n",
    "from os import listdir\n",
    "directory=\"s1\"\n",
    "\n",
    "text=\"\"\n",
    "r = sr.Recognizer()\n",
    "files=listdir(\"audios/\"+directory)\n",
    "filename=\"transcripts/\"+directory+\".txt\"\n",
    "f = open(filename, 'w')\n",
    "for file in files:\n",
    "    if not \"sound\" in file:\n",
    "         files.remove(file)\n",
    "for i in range(1,len(files)):\n",
    "    AUDIO_FILE = \"audios/\"+directory+\"/\"+\"sound\"+str(i)+\".wav\"\n",
    "    with sr.AudioFile(AUDIO_FILE) as source:\n",
    "        audio = r.record(source) # read the entire audio file\n",
    "        # use the audio file as the audio source\n",
    "    # recognize speech using Microsoft Bing Voice Recognition\n",
    "    BING_KEY = \"8638a1837c0946f799ecd77e011d97d9\" # Microsoft Bing Voice Recognition API keys 32-character lowercase hexadecimal strings\n",
    "    try:\n",
    "        text = r.recognize_bing(audio, key=BING_KEY)\n",
    "        print(\"Audio recognized\")\n",
    "        print(\"Recognized text:\", text)\n",
    "        f.write(text+\"\\n\")\n",
    "    except sr.UnknownValueError:\n",
    "        print(\"Audio not understood\")\n",
    "    except sr.RequestError as e:\n",
    "        print(\"Error with service; {0}\".format(e))\n",
    "    time.sleep(10)\n",
    "\n",
    "f.close()"
   ]
  },
  {
   "cell_type": "code",
   "execution_count": null,
   "metadata": {
    "collapsed": true,
    "deletable": true,
    "editable": true
   },
   "outputs": [],
   "source": []
  }
 ],
 "metadata": {
  "kernelspec": {
   "display_name": "Python 3",
   "language": "python",
   "name": "python3"
  },
  "language_info": {
   "codemirror_mode": {
    "name": "ipython",
    "version": 3
   },
   "file_extension": ".py",
   "mimetype": "text/x-python",
   "name": "python",
   "nbconvert_exporter": "python",
   "pygments_lexer": "ipython3",
   "version": "3.6.1"
  }
 },
 "nbformat": 4,
 "nbformat_minor": 0
}
